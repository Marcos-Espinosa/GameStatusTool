{
 "cells": [
  {
   "cell_type": "code",
   "execution_count": 1,
   "id": "bfbe9920",
   "metadata": {},
   "outputs": [],
   "source": [
    "from requests import get\n",
    "from pprint import PrettyPrinter"
   ]
  },
  {
   "cell_type": "code",
   "execution_count": 2,
   "id": "0323e40e",
   "metadata": {},
   "outputs": [],
   "source": [
    "BASE_URL = \"https://data.nba.net\""
   ]
  },
  {
   "cell_type": "code",
   "execution_count": 3,
   "id": "8ee3614f",
   "metadata": {},
   "outputs": [],
   "source": [
    "ALL_JSON = \"/prod/v1/today.json\""
   ]
  },
  {
   "cell_type": "code",
   "execution_count": 4,
   "id": "9b83d945",
   "metadata": {},
   "outputs": [],
   "source": [
    "printer = PrettyPrinter()"
   ]
  },
  {
   "cell_type": "code",
   "execution_count": 5,
   "id": "a4d25026",
   "metadata": {},
   "outputs": [],
   "source": [
    "def get_links():\n",
    "    data = get(BASE_URL + ALL_JSON).json()\n",
    "    links = data['links']\n",
    "    return links"
   ]
  },
  {
   "cell_type": "code",
   "execution_count": 6,
   "id": "0d6db0c1",
   "metadata": {},
   "outputs": [],
   "source": [
    "def get_scoreboard():\n",
    "    scoreboard = get_links()['currentScoreboard']\n",
    "    games = get(BASE_URL + scoreboard).json()['games']\n",
    "    \n",
    "    for game in games:\n",
    "        home_team = game['hTeam']\n",
    "        visitor_team = game['vTeam']\n",
    "        clock = game['clock']\n",
    "        period = game['period']\n",
    "        print(\"-------------------------------------\")\n",
    "        print(f\"{home_team['triCode']} vs {visitor_team['triCode']}\")\n",
    "        print(f\"{home_team['score']} - {visitor_team['score']}\")\n",
    "        print(f\"{clock} - {period['current']}\")\n",
    "        break"
   ]
  },
  {
   "cell_type": "code",
   "execution_count": 10,
   "id": "1115c017",
   "metadata": {
    "scrolled": true
   },
   "outputs": [],
   "source": [
    "get_scoreboard()"
   ]
  },
  {
   "cell_type": "code",
   "execution_count": 8,
   "id": "c7ea6505",
   "metadata": {},
   "outputs": [],
   "source": [
    "def get_stats():\n",
    "    stats = get_links()['leagueTeamStatsLeaders']\n",
    "    teams = get(BASE_URL + stats).json()['league']['standard']['regularSeason']['teams']\n",
    "    #Below line will sort based on ppg rank. Error during off season due to ValueError\n",
    "    #teams.sort(key = lambda x: int(x['ppg']['rank']))   \n",
    "    \n",
    "    \n",
    "    for i,team in enumerate(teams):\n",
    "        name = team['name']\n",
    "        nickname = team['nickname']\n",
    "        ppg = team['ppg']['avg']\n",
    "        print(f\"{i+1}. {name} - {nickname} - {ppg}\")"
   ]
  },
  {
   "cell_type": "code",
   "execution_count": 9,
   "id": "739f2d6d",
   "metadata": {
    "scrolled": true
   },
   "outputs": [
    {
     "name": "stdout",
     "output_type": "stream",
     "text": [
      "1. Adelaide - 36ers - -\n",
      "2. Ra'anana - Maccabi Ra'anana - -\n",
      "3. Atlanta - Hawks - -\n",
      "4. Boston - Celtics - -\n",
      "5. Cleveland - Cavaliers - -\n",
      "6. New Orleans - Pelicans - -\n",
      "7. Chicago - Bulls - -\n",
      "8. Dallas - Mavericks - -\n",
      "9. Denver - Nuggets - -\n",
      "10. Golden State - Warriors - -\n",
      "11. Houston - Rockets - -\n",
      "12. LA - Clippers - -\n",
      "13. Los Angeles - Lakers - -\n",
      "14. Miami - Heat - -\n",
      "15. Milwaukee - Bucks - -\n",
      "16. Minnesota - Timberwolves - -\n",
      "17. Brooklyn - Nets - -\n",
      "18. New York - Knicks - -\n",
      "19. Orlando - Magic - -\n",
      "20. Indiana - Pacers - -\n",
      "21. Philadelphia - 76ers - -\n",
      "22. Phoenix - Suns - -\n",
      "23. Portland - Trail Blazers - -\n",
      "24. Sacramento - Kings - -\n",
      "25. San Antonio - Spurs - -\n",
      "26. Oklahoma City - Thunder - -\n",
      "27. Toronto - Raptors - -\n",
      "28. Utah - Jazz - -\n",
      "29. Memphis - Grizzlies - -\n",
      "30. Washington - Wizards - -\n",
      "31. Detroit - Pistons - -\n",
      "32. Charlotte - Hornets - -\n"
     ]
    }
   ],
   "source": [
    "get_stats()"
   ]
  },
  {
   "cell_type": "code",
   "execution_count": null,
   "id": "f7f8b1f4",
   "metadata": {},
   "outputs": [],
   "source": []
  }
 ],
 "metadata": {
  "kernelspec": {
   "display_name": "Python 3 (ipykernel)",
   "language": "python",
   "name": "python3"
  },
  "language_info": {
   "codemirror_mode": {
    "name": "ipython",
    "version": 3
   },
   "file_extension": ".py",
   "mimetype": "text/x-python",
   "name": "python",
   "nbconvert_exporter": "python",
   "pygments_lexer": "ipython3",
   "version": "3.9.12"
  }
 },
 "nbformat": 4,
 "nbformat_minor": 5
}
